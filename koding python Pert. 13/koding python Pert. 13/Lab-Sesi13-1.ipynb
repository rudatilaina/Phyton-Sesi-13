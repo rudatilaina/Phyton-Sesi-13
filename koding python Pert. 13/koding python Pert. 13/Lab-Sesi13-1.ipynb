{
 "cells": [
  {
   "cell_type": "markdown",
   "metadata": {},
   "source": [
    "<img src=\"img/header.png\"></img>"
   ]
  },
  {
   "cell_type": "markdown",
   "metadata": {},
   "source": [
    "<h2> Getting data using APIs dari (Web General, Twitter, atau lainnya) </h2>"
   ]
  },
  {
   "cell_type": "markdown",
   "metadata": {},
   "source": [
    "### Get data cuaca dari \"Weather API\""
   ]
  },
  {
   "cell_type": "code",
   "execution_count": 7,
   "metadata": {},
   "outputs": [],
   "source": [
    "# Import library request\n",
    "import requests\n",
    "import numpy as pd"
   ]
  },
  {
   "cell_type": "code",
   "execution_count": 2,
   "metadata": {},
   "outputs": [],
   "source": [
    "apikey = '133559c63e055b23b0dd2dafc698fcfe' # --> imam, \n",
    "# tlg masing\" sign up mandiri ke https://openweathermap.org/appid"
   ]
  },
  {
   "cell_type": "code",
   "execution_count": 3,
   "metadata": {},
   "outputs": [
    {
     "name": "stdout",
     "output_type": "stream",
     "text": [
      "Malang\n",
      "133559c63e055b23b0dd2dafc698fcfe\n"
     ]
    }
   ],
   "source": [
    "weather_url = \"http://api.openweathermap.org/data/2.5/weather\" # get kondisi saat ini\n",
    "#weather_url = \"http://api.openweathermap.org/data/2.5/forecast\" # get untuk peramalannya\n",
    "city_name = \"Malang\"\n",
    "# print(weather_url)\n",
    "print(city_name)\n",
    "print(apikey)"
   ]
  },
  {
   "cell_type": "code",
   "execution_count": 4,
   "metadata": {},
   "outputs": [
    {
     "data": {
      "text/plain": [
       "'http://api.openweathermap.org/data/2.5/weather?q=Malang&APPID=133559c63e055b23b0dd2dafc698fcfe'"
      ]
     },
     "execution_count": 4,
     "metadata": {},
     "output_type": "execute_result"
    }
   ],
   "source": [
    "#r = requests.get(weather_url, params={'q': city_name, 'APPID': apikey})\n",
    "r = requests.get(weather_url, params={'q': city_name, 'APPID': apikey})\n",
    "r.url # `requests` help us encode the URL in the correct format"
   ]
  },
  {
   "cell_type": "code",
   "execution_count": 5,
   "metadata": {},
   "outputs": [
    {
     "data": {
      "text/plain": [
       "200"
      ]
     },
     "execution_count": 5,
     "metadata": {},
     "output_type": "execute_result"
    }
   ],
   "source": [
    "r.status_code # 200 means success"
   ]
  },
  {
   "cell_type": "code",
   "execution_count": 6,
   "metadata": {},
   "outputs": [
    {
     "data": {
      "text/plain": [
       "{'coord': {'lon': 112.63, 'lat': -7.98},\n",
       " 'weather': [{'id': 800,\n",
       "   'main': 'Clear',\n",
       "   'description': 'clear sky',\n",
       "   'icon': '01d'}],\n",
       " 'base': 'stations',\n",
       " 'main': {'temp': 305.174,\n",
       "  'pressure': 1013.46,\n",
       "  'humidity': 30,\n",
       "  'temp_min': 305.174,\n",
       "  'temp_max': 305.174,\n",
       "  'sea_level': 1013.46,\n",
       "  'grnd_level': 928.42},\n",
       " 'wind': {'speed': 1.35, 'deg': 136.14},\n",
       " 'clouds': {'all': 0},\n",
       " 'dt': 1570069001,\n",
       " 'sys': {'message': 0.0063,\n",
       "  'country': 'ID',\n",
       "  'sunrise': 1570054391,\n",
       "  'sunset': 1570098246},\n",
       " 'timezone': 25200,\n",
       " 'id': 1636722,\n",
       " 'name': 'Malang',\n",
       " 'cod': 200}"
      ]
     },
     "execution_count": 6,
     "metadata": {},
     "output_type": "execute_result"
    }
   ],
   "source": [
    "result = r.json()\n",
    "result"
   ]
  },
  {
   "cell_type": "code",
   "execution_count": 8,
   "metadata": {},
   "outputs": [
    {
     "data": {
      "text/plain": [
       "'Malang'"
      ]
     },
     "execution_count": 8,
     "metadata": {},
     "output_type": "execute_result"
    }
   ],
   "source": [
    "result['name']"
   ]
  },
  {
   "cell_type": "code",
   "execution_count": 9,
   "metadata": {},
   "outputs": [
    {
     "name": "stdout",
     "output_type": "stream",
     "text": [
      "Tinggi Permukaan Laut:  1013.46\n"
     ]
    }
   ],
   "source": [
    "print('Tinggi Permukaan Laut: ',result['main']['sea_level'])"
   ]
  },
  {
   "cell_type": "code",
   "execution_count": 10,
   "metadata": {},
   "outputs": [
    {
     "name": "stdout",
     "output_type": "stream",
     "text": [
      "Suhu:  305.174 Kelvin\n"
     ]
    }
   ],
   "source": [
    "print('Suhu: ', str(result['main']['temp']), 'Kelvin')"
   ]
  },
  {
   "cell_type": "code",
   "execution_count": 11,
   "metadata": {},
   "outputs": [
    {
     "name": "stdout",
     "output_type": "stream",
     "text": [
      "Suhu:  32.024 Celcius\n"
     ]
    }
   ],
   "source": [
    "print('Suhu: ', str(result['main']['temp']-273.15), 'Celcius')"
   ]
  },
  {
   "cell_type": "code",
   "execution_count": 12,
   "metadata": {},
   "outputs": [
    {
     "name": "stdout",
     "output_type": "stream",
     "text": [
      "Kecepatan Angin:  1.35\n"
     ]
    }
   ],
   "source": [
    "print('Kecepatan Angin: ',result['wind']['speed'])"
   ]
  },
  {
   "cell_type": "code",
   "execution_count": 13,
   "metadata": {
    "scrolled": true
   },
   "outputs": [
    {
     "name": "stdout",
     "output_type": "stream",
     "text": [
      "temp 305.174\n",
      "pressure 1013.46\n",
      "humidity 30\n",
      "temp_min 305.174\n",
      "temp_max 305.174\n",
      "sea_level 1013.46\n",
      "grnd_level 928.42\n"
     ]
    }
   ],
   "source": [
    "for key, value in result['main'].items():\n",
    "     print(key, value) # default temperature dalam satuan Kelvin, yang mana K − 273.15 = °C"
   ]
  },
  {
   "cell_type": "markdown",
   "metadata": {},
   "source": [
    "### Get data cuaca dari Twitter API "
   ]
  },
  {
   "cell_type": "markdown",
   "metadata": {},
   "source": [
    "Untuk key API Twitter, untuk sementara silahkan gunakan dari yang pernah saya gunakan berikut:\n",
    "oauth.consumerKey=JEj5tRSA9JWjWV6imMOrUIVWV\n",
    "oauth.consumerSecret=7MEa00KHpUbjxble8pdlV74qPbvW2OHqLtjt45QQraJaAzRmAh\n",
    "oauth.accessToken=935208713551364097-W9Oy0IS2M1dRUQS5MZ6Dnz18BkHUP80\n",
    "oauth.accessTokenSecret=jCANa7K7werTP2X1mnLlcRBFDHAJt9TZSCbC77FSNCj50\n",
    "\n",
    "Mohon jgn di-hack ya. 🤓🙏"
   ]
  },
  {
   "cell_type": "code",
   "execution_count": 14,
   "metadata": {},
   "outputs": [],
   "source": [
    "## suppress warnings\n",
    "import warnings\n",
    "warnings.filterwarnings('ignore')"
   ]
  },
  {
   "cell_type": "code",
   "execution_count": 15,
   "metadata": {},
   "outputs": [],
   "source": [
    "#with open(\"twitter_keys.csv\", \"r\") as twitter_keys:\n",
    "#    keys = twitter_keys.read()\n",
    "#    consumer_key, consumer_secret, access_token, access_secret = \\\n",
    "#        keys.split(\"\\n\")[:-1]\n",
    "consumer_key = \"JEj5tRSA9JWjWV6imMOrUIVWV\"        \n",
    "consumer_secret = \"7MEa00KHpUbjxble8pdlV74qPbvW2OHqLtjt45QQraJaAzRmAh\"\n",
    "access_token = \"935208713551364097-W9Oy0IS2M1dRUQS5MZ6Dnz18BkHUP80\"\n",
    "access_secret = \"jCANa7K7werTP2X1mnLlcRBFDHAJt9TZSCbC77FSNCj50\""
   ]
  },
  {
   "cell_type": "code",
   "execution_count": 11,
   "metadata": {},
   "outputs": [],
   "source": [
    "#!pip install twitter --> install terminal --> optional\n",
    "#!pip install python-twitter --> install terminal"
   ]
  },
  {
   "cell_type": "code",
   "execution_count": 18,
   "metadata": {},
   "outputs": [
    {
     "data": {
      "text/plain": [
       "User(ID=935208713551364097, ScreenName=BigDataFreeCode)"
      ]
     },
     "execution_count": 18,
     "metadata": {},
     "output_type": "execute_result"
    }
   ],
   "source": [
    "## load twitter package, which a well-written Python package for Twitter APIs\n",
    "import twitter\n",
    "api = twitter.Api(consumer_key=consumer_key,\n",
    "                  consumer_secret=consumer_secret,                  \n",
    "                  access_token_key=access_token,\n",
    "                  access_token_secret=access_secret)\n",
    "\n",
    "## check status\n",
    "api.VerifyCredentials()"
   ]
  },
  {
   "cell_type": "code",
   "execution_count": 19,
   "metadata": {},
   "outputs": [
    {
     "name": "stdout",
     "output_type": "stream",
     "text": [
      "tweepy + oauth!\n",
      "tweepy + oauth!\n",
      "#CloudComputing Digital Talent Scholarship UB 2019 Mantap Emang\n",
      "c b o p\n",
      "a g b c r c e\n",
      "#CloudComputing Digital Talent Scholarship UB 2019 Mantap\n",
      "c b r y\n",
      "a g b c h w e\n",
      "tweep + oauth!\n",
      "#CloudComputing Filkom UB Digital Talent 2019\n",
      "halo lagi pembaca tweeter\n",
      "Cek 1 2 dicoba\n",
      "halo pembaca tweeter\n",
      "Universitas Brawijaya\n",
      "FGA Universitas Brawijaya\n",
      "bayi ambil tanganku #raidtyadika\n",
      "#radityadika\n",
      "tweepy + auth!\n",
      "#CloudComputing Digital Talent Scholarship UB 2019 Mantap\n",
      "c b r y\n"
     ]
    }
   ],
   "source": [
    "statuses = api.GetUserTimeline(screen_name=\"BigDataFreeCode\")\n",
    "for s in statuses:\n",
    "    print(s.text)"
   ]
  },
  {
   "cell_type": "code",
   "execution_count": 16,
   "metadata": {
    "scrolled": true
   },
   "outputs": [
    {
     "name": "stdout",
     "output_type": "stream",
     "text": [
      "Wed Jul 17 16:28:03 +0000 2019\n"
     ]
    }
   ],
   "source": [
    "statuses = api.GetUserTimeline(user_id=\"935208713551364097\")\n",
    "for s in statuses:\n",
    "    print(s.created_at)"
   ]
  },
  {
   "cell_type": "code",
   "execution_count": 17,
   "metadata": {
    "scrolled": true
   },
   "outputs": [
    {
     "name": "stdout",
     "output_type": "stream",
     "text": [
      "M. ICHSAN AL-FATIH\n",
      "Manchester United\n",
      "Brigata Curva Sud\n",
      "SMTOWN\n",
      "Frieska Anastasia\n",
      "Shania Junianatha\n",
      "Motivasiilmu\n",
      "Mind blowon\n",
      "Shinta Naomi\n",
      "NU Online\n",
      "GOT7\n",
      "A. Mustofa Bisri\n",
      "BAYU SKAK\n",
      "Hadith of the Day\n",
      "BTS_official\n",
      "Beby Chaesara A\n",
      "Saktia Oktapyani\n",
      "Shawn Mendes\n",
      "Sinka Juliani\n",
      "Lidya M. Djuhandar\n",
      "Jessica Veranda\n",
      "방탄소년단\n",
      "Boy Candra\n",
      "Cindy Yuvia\n",
      "Cristiano Ronaldo\n",
      "BigHit Entertainment\n",
      "Fiersa Besari\n",
      "Ayana Shahab\n",
      "Twetbijak\n",
      "Natalia\n",
      "Cak Lontong\n",
      "Wira Nagara\n"
     ]
    }
   ],
   "source": [
    "friends = api.GetFriends()\n",
    "for f in friends:\n",
    "    print(f.name)"
   ]
  },
  {
   "cell_type": "code",
   "execution_count": 20,
   "metadata": {},
   "outputs": [
    {
     "name": "stdout",
     "output_type": "stream",
     "text": [
      "Huge congratulations to #uiowa grad and @GameOfThrones co-creator D.B. Weiss. The series earned a record-breaking 3… https://t.co/pLyZ4rS5Ui. Tweeted by \u001b[41muiowa\u001b[0m\n",
      "NEW: The University of Iowa receives Fiske Guide’s ‘Best Buy’ designation for the 15th consecutive year for its aca… https://t.co/9E3mcvydI5. Tweeted by \u001b[41muiowa\u001b[0m\n",
      "It's a Hawkeye state. @UIowaEducation is the top ranked college of education in the state and University of Iowa-tr… https://t.co/LNrO94zbGh. Tweeted by \u001b[41muiowa\u001b[0m\n",
      "Less than 50 days until it's time to #SwarmKinnick. 🖤💛🏈 https://t.co/ll9Mwg3dLV. Tweeted by \u001b[41muiowa\u001b[0m\n",
      "Raise your hand if you're feeling homesick. #uiowa 🖤💛 https://t.co/iUiTVV9sr4. Tweeted by \u001b[41muiowa\u001b[0m\n",
      "Once you've arrived home at the University of Iowa, you never want to leave. https://t.co/cYjUAhj3DK. Tweeted by \u001b[41muiowa\u001b[0m\n",
      "Reliving a season of championships. #TBT 🖤💛 @TheIowaHawkeyes https://t.co/LRExD3LxGZ. Tweeted by \u001b[41muiowa\u001b[0m\n",
      "👀 A hawk finds its way home. https://t.co/AOCkoj0PtW. Tweeted by \u001b[41muiowa\u001b[0m\n"
     ]
    },
    {
     "data": {
      "text/plain": [
       "'Huge congratulations to #uiowa grad and @GameOfThrones co-creator D.B. Weiss. The series earned a record-breaking 3… https://t.co/pLyZ4rS5Ui'"
      ]
     },
     "execution_count": 20,
     "metadata": {},
     "output_type": "execute_result"
    }
   ],
   "source": [
    "results = api.GetSearch(\n",
    "    raw_query=\"q=uiowa&result_type=popular&since=2014-12-01&count=20&lang=en\") # mencari dalam twitter english\n",
    "\n",
    "len(results)\n",
    "\n",
    "from IPython.display import clear_output\n",
    "for tw in results:\n",
    "    print(\"%s. Tweeted by \\033[41m%s\\033[0m\"%(tw.text, tw.user.screen_name))\n",
    "    \n",
    "tweet_list = [tw.text.replace('\\n', ' ') for tw in results]\n",
    "# get tweet pada indeks ke-0\n",
    "tweet_list[0]"
   ]
  },
  {
   "cell_type": "markdown",
   "metadata": {},
   "source": [
    "### Get dari kata kunci tertentu"
   ]
  },
  {
   "cell_type": "code",
   "execution_count": 23,
   "metadata": {},
   "outputs": [
    {
     "name": "stdout",
     "output_type": "stream",
     "text": [
      "#BigData @AnalyticsWeek #FutureOfData #Podcast with Dr. Nipa Basu, @DnBUS https://t.co/WmR4uUF4NQ. Tweeted by \u001b[41m AnalyticsWeek \u001b[0m\n",
      "Suruah zaki pakai hastag, nyasa lo wak dak pakai hastag aaaaa, indak lo bsa diedit manyasa lo wak kan,… https://t.co/HvXBVvLVdW. Tweeted by \u001b[41m prima_hoax \u001b[0m\n",
      "Dongeng pengantar tidur. \n",
      "#big #data #bigdata https://t.co/uwX1cRZvUa. Tweeted by \u001b[41m dartoiwan \u001b[0m\n",
      "RT @EvelloCorp: Perbandingan jumlah berita dan sebarannya di Media Sosial antara TNI dan Polri pada periode Juni 2019. Tingginya sebaran me…. Tweeted by \u001b[41m jokoselong \u001b[0m\n",
      "RT @ptaruitm: Sedang berlangsung di Perpustakaan Tun Abdul Razak Utama\n",
      "Big Data Workshop: \n",
      "Big Data In Agriculture and Economics Workshop:…. Tweeted by \u001b[41m faizar \u001b[0m\n",
      "🇮🇩 #Peneliti AI yang Pembangkang Tinggalkan Google - Medcom ID https://t.co/iorxqupIwd ⬇️ #KecerdasanBuatan ⬇️… https://t.co/NZB6ceZqvI. Tweeted by \u001b[41m AIVids \u001b[0m\n",
      "🇮🇩 #Presiden Jokowi Tekankan Artificial Intelligence Saat Lantik 781 Perwira TNI-Polri - BeritaSatu… https://t.co/dL2zGAPR1u. Tweeted by \u001b[41m AIVids \u001b[0m\n",
      "RT @EvelloCorp: Perbandingan jumlah berita dan sebarannya di Media Sosial antara TNI dan Polri pada periode Juni 2019. Tingginya sebaran me…. Tweeted by \u001b[41m chidambara09 \u001b[0m\n",
      "RT @duniaindustri: 2020, Ekosistem Bisnis Internet di Indonesia Ditaksir Senilai Rp 444 Triliun https://t.co/CloKUNT6ux via @wordpressdotco…. Tweeted by \u001b[41m chidambara09 \u001b[0m\n",
      "RT @duniaindustri: Market Analysis di 13 Sektor Industri dan 164 Database https://t.co/BYQO98xEtA via @wordpressdotcom\n",
      " #BigData #168Kumpul…. Tweeted by \u001b[41m chidambara09 \u001b[0m\n",
      "RT @EvelloCorp: Perbandingan jumlah berita dan sebarannya di Media Sosial antara TNI dan Polri pada periode Juni 2019. Tingginya sebaran me…. Tweeted by \u001b[41m ARIO_A_S \u001b[0m\n",
      "RT @duniaindustri: Data Penjualan Semen 2019 https://t.co/tnQtIp0GJp via @wordpressdotcom\n",
      " #BigData #168KumpulanRiset #MarketAnalysis #Surv…. Tweeted by \u001b[41m chidambara09 \u001b[0m\n",
      "RT @duniaindustri: Big Data di Sektor Konstruksi https://t.co/GCP9oLPF1f via @wordpressdotcom\n",
      " #BigData #168KumpulanRiset #MarketAnalysis #…. Tweeted by \u001b[41m chidambara09 \u001b[0m\n",
      "Perbandingan jumlah berita dan sebarannya di Media Sosial antara TNI dan Polri pada periode Juni 2019. Tingginya se… https://t.co/l5wu7a9OLh. Tweeted by \u001b[41m EvelloCorp \u001b[0m\n",
      "RT @duniaindustri: Indonesia Industrial Summit 2019, Revolusi Industri 4.0 Jadi Fokus Utama \n",
      "https://t.co/hnFLikuPzy\n",
      " #BigData #168Kumpulan…. Tweeted by \u001b[41m chidambara09 \u001b[0m\n",
      "RT @duniaindustri: Big Data Jadi Trend, Simak 5 Perusahaan Big Data Dunia dan Gebrakannya \n",
      "\n",
      "https://t.co/iJIPZe8lfA via @wordpressdotcom\n",
      " #…. Tweeted by \u001b[41m chidambara09 \u001b[0m\n",
      "RT @duniaindustri: 168 Kumpulan Riset Data Industri Per Sektor \n",
      "\n",
      "https://t.co/mNeSqM5mWT via @wordpressdotcom\n",
      " #BigData #168KumpulanRiset #…. Tweeted by \u001b[41m chidambara09 \u001b[0m\n",
      "RT @duniaindustri: Data Industri: Update Juli 2019, Kumpulan 168 Hasil Riset Data Industri https://t.co/q6OSwTp2g0\n",
      " #BigData #168KumpulanRi…. Tweeted by \u001b[41m chidambara09 \u001b[0m\n",
      "Indonesia Industrial Summit 2019, Revolusi Industri 4.0 Jadi Fokus Utama \n",
      "https://t.co/hnFLikuPzy\n",
      " #BigData… https://t.co/k9jwCc9pm2. Tweeted by \u001b[41m duniaindustri \u001b[0m\n",
      "RT @duniaindustri: Data Industri: Database Direktori 935 Perusahaan Elektronik di In... https://t.co/yoPVF1qvHg\n",
      " #BigData #168KumpulanRiset…. Tweeted by \u001b[41m chidambara09 \u001b[0m\n"
     ]
    },
    {
     "data": {
      "text/plain": [
       "'#BigData @AnalyticsWeek #FutureOfData #Podcast with Dr. Nipa Basu, @DnBUS https://t.co/WmR4uUF4NQ'"
      ]
     },
     "execution_count": 23,
     "metadata": {},
     "output_type": "execute_result"
    }
   ],
   "source": [
    "results = api.GetSearch(\n",
    "    raw_query=\"q=%23BigData&result_type=mixed&since=2014-01-31&count=20&lang=id&\") # mencari dalam twitter indonesia\n",
    "    # https://krypted.com/utilities/html-encoding-reference/ --> makna simbol %23 adalah # untuk hashtag\n",
    "    # https://en.wikipedia.org/wiki/List_of_ISO_639-1_codes\n",
    "len(results)\n",
    "\n",
    "from IPython.display import clear_output\n",
    "for tw in results:\n",
    "    print(\"%s. Tweeted by \\033[41m %s \\033[0m\"%(tw.text, tw.user.screen_name))\n",
    "\n",
    "tweet_list = [tw.text.replace('\\n', ' ') for tw in results]\n",
    "# get tweet pada indeks ke-0\n",
    "tweet_list[0]"
   ]
  },
  {
   "cell_type": "markdown",
   "metadata": {},
   "source": [
    "<img src=\"img/thumbs-up.png\"></img>"
   ]
  }
 ],
 "metadata": {
  "kernelspec": {
   "display_name": "Python 3",
   "language": "python",
   "name": "python3"
  },
  "language_info": {
   "codemirror_mode": {
    "name": "ipython",
    "version": 3
   },
   "file_extension": ".py",
   "mimetype": "text/x-python",
   "name": "python",
   "nbconvert_exporter": "python",
   "pygments_lexer": "ipython3",
   "version": "3.7.3"
  }
 },
 "nbformat": 4,
 "nbformat_minor": 4
}
